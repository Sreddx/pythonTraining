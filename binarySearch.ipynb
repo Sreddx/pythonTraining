{
 "cells": [
  {
   "cell_type": "markdown",
   "metadata": {},
   "source": [
    "Method for solving problems\n",
    "1-State the problem clearly. Identify the input & output formats.\n",
    "2-Come up with some example inputs & outputs. Try to cover all edge cases.\n",
    "3-Come up with a correct solution for the problem. State it in plain English.\n",
    "4-Implement the solution and test it using example inputs. Fix bugs, if any.\n",
    "5-Analyze the algorithm's complexity and identify inefficiencies, if any.\n",
    "6-Apply the right technique to overcome the inefficiency. Repeat steps 3 to 6."
   ]
  },
  {
   "cell_type": "markdown",
   "metadata": {},
   "source": [
    "Problem: given a list with numbers arranged in decreasing order, find the position of a given number. Minimize number of times we access the list.\n",
    "-Inputs: list of numbers, a number\n",
    "-Output: position of number in list"
   ]
  },
  {
   "cell_type": "code",
   "execution_count": null,
   "metadata": {},
   "outputs": [],
   "source": [
    "def find_card(cards, query):\n",
    "    queryPos = 0\n",
    "    if len(cards)==0:\n",
    "        return -1\n",
    "    if query == cards[queryPos]:\n",
    "        return queryPos \n",
    "    for x in range(len(cards)):\n",
    "        if cards[x]==query:\n",
    "            print(x)\n",
    "            return x\n",
    "    return -1\n"
   ]
  },
  {
   "cell_type": "code",
   "execution_count": null,
   "metadata": {},
   "outputs": [],
   "source": [
    "\n",
    "#cards = [13, 11, 10, 7, 4, 3, 1, 0]\n",
    "#query = 7\n",
    "#output = 3\n",
    "\n",
    "#result = find_card(cards, query)\n",
    "#print(result)\n",
    "#print(result == output)"
   ]
  },
  {
   "cell_type": "code",
   "execution_count": null,
   "metadata": {},
   "outputs": [],
   "source": [
    "test = {\n",
    "    'input': { \n",
    "        'cards': [13, 11, 10, 7, 4, 3, 1, 0], \n",
    "        'query': 7\n",
    "    },\n",
    "    'output': 3\n",
    "}"
   ]
  },
  {
   "cell_type": "code",
   "execution_count": null,
   "metadata": {},
   "outputs": [],
   "source": [
    "#find_card(test['input']['cards'],test['input']['query']) == test['output']\n",
    "find_card(**test['input']) == test['output']"
   ]
  },
  {
   "cell_type": "markdown",
   "metadata": {},
   "source": [
    "Edge cases - in interview put in comments\n",
    "-The number query occurs somewhere in the middle of the list cards.\n",
    "-query is the first element in cards.\n",
    "-query is the last element in cards.\n",
    "-The list cards contains just one element, which is query.\n",
    "-The list cards does not contain number query.\n",
    "-The list cards is empty.\n",
    "-The list cards contains repeating numbers.\n",
    "-The number query occurs at more than one position in cards.\n"
   ]
  },
  {
   "cell_type": "code",
   "execution_count": null,
   "metadata": {},
   "outputs": [],
   "source": [
    "tests=[]"
   ]
  },
  {
   "cell_type": "code",
   "execution_count": null,
   "metadata": {},
   "outputs": [],
   "source": [
    "# query occurs in the middle\n",
    "tests.append(test)\n",
    "\n",
    "tests.append({\n",
    "    'input': {\n",
    "        'cards': [13, 11, 10, 7, 4, 3, 1, 0],\n",
    "        'query': 1\n",
    "    },\n",
    "    'output': 6\n",
    "})"
   ]
  },
  {
   "cell_type": "code",
   "execution_count": null,
   "metadata": {},
   "outputs": [],
   "source": [
    "# query is the first element\n",
    "tests.append({\n",
    "    'input': {\n",
    "        'cards': [4, 2, 1, -1],\n",
    "        'query': 4\n",
    "    },\n",
    "    'output': 0\n",
    "})"
   ]
  },
  {
   "cell_type": "code",
   "execution_count": null,
   "metadata": {},
   "outputs": [],
   "source": [
    "# query is the last element\n",
    "tests.append({\n",
    "    'input': {\n",
    "        'cards': [3, -1, -9, -127],\n",
    "        'query': -127\n",
    "    },\n",
    "    'output': 3\n",
    "})"
   ]
  },
  {
   "cell_type": "code",
   "execution_count": null,
   "metadata": {},
   "outputs": [],
   "source": [
    "# cards contains just one element, query\n",
    "tests.append({\n",
    "    'input': {\n",
    "        'cards': [6],\n",
    "        'query': 6\n",
    "    },\n",
    "    'output': 0 \n",
    "})"
   ]
  },
  {
   "cell_type": "code",
   "execution_count": null,
   "metadata": {},
   "outputs": [],
   "source": [
    "# cards does not contain query \n",
    "tests.append({\n",
    "    'input': {\n",
    "        'cards': [9, 7, 5, 2, -9],\n",
    "        'query': 4\n",
    "    },\n",
    "    'output': -1\n",
    "})"
   ]
  },
  {
   "cell_type": "code",
   "execution_count": null,
   "metadata": {},
   "outputs": [],
   "source": [
    "# cards is empty\n",
    "tests.append({\n",
    "    'input': {\n",
    "        'cards': [],\n",
    "        'query': 7\n",
    "    },\n",
    "    'output': -1\n",
    "})"
   ]
  },
  {
   "cell_type": "code",
   "execution_count": null,
   "metadata": {},
   "outputs": [],
   "source": [
    "# numbers can repeat in cards\n",
    "tests.append({\n",
    "    'input': {\n",
    "        'cards': [8, 8, 6, 6, 6, 6, 6, 3, 2, 2, 2, 0, 0, 0],\n",
    "        'query': 3\n",
    "    },\n",
    "    'output': 7\n",
    "})"
   ]
  },
  {
   "cell_type": "code",
   "execution_count": null,
   "metadata": {},
   "outputs": [],
   "source": [
    "# query occurs multiple times\n",
    "tests.append({\n",
    "    'input': {\n",
    "        'cards': [8, 8, 6, 6, 6, 6, 6, 6, 3, 2, 2, 2, 0, 0, 0],\n",
    "        'query': 6\n",
    "    },\n",
    "    'output': 2\n",
    "})"
   ]
  },
  {
   "cell_type": "code",
   "execution_count": null,
   "metadata": {},
   "outputs": [],
   "source": [
    "# query occurs multiple times\n",
    "tests.append({\n",
    "    'input': {\n",
    "        'cards': [8, 8, 6, 6, 6, 6, 6, 6, 3, 2, 2, 2, 0, 0, 0],\n",
    "        'query': 6\n",
    "    },\n",
    "    'output': 2\n",
    "})"
   ]
  },
  {
   "cell_type": "markdown",
   "metadata": {},
   "source": [
    "No need to do this many test cases, it depends on how much time we have. Infer outputs for certain edge cases from problem, given examples or ask interviewer. Do create some test cases for the edge cases."
   ]
  },
  {
   "cell_type": "markdown",
   "metadata": {},
   "source": [
    "First approach should be come up with a correct solution not necessarily the most efficient. Aka brute force\n"
   ]
  },
  {
   "cell_type": "code",
   "execution_count": null,
   "metadata": {},
   "outputs": [],
   "source": [
    "#Other method without library\n",
    "#for test in tests:\n",
    "    #print(find_card(**test['input']) == test['output'])"
   ]
  },
  {
   "cell_type": "code",
   "execution_count": null,
   "metadata": {},
   "outputs": [],
   "source": [
    "from jovian.pythondsa import evaluate_test_cases\n",
    "evaluate_test_cases(find_card,tests)"
   ]
  },
  {
   "cell_type": "markdown",
   "metadata": {},
   "source": [
    "Complexity of an algorithm is a measure of the amount of time and/or space required by an algorithm for an input of a given size e.g. N. Unless otherwise stated, the term complexity always refers to the worst-case complexity (i.e. the highest possible time/space taken by the program/algorithm to process an input).\n",
    "\n"
   ]
  },
  {
   "cell_type": "code",
   "execution_count": null,
   "metadata": {},
   "outputs": [],
   "source": []
  }
 ],
 "metadata": {
  "interpreter": {
   "hash": "e16202fb1e26b3a7be73cc80c97b3c4e6a47a9327e0be953ec679d68107a3da0"
  },
  "kernelspec": {
   "display_name": "Python 3.9.5 64-bit",
   "language": "python",
   "name": "python3"
  },
  "language_info": {
   "codemirror_mode": {
    "name": "ipython",
    "version": 3
   },
   "file_extension": ".py",
   "mimetype": "text/x-python",
   "name": "python",
   "nbconvert_exporter": "python",
   "pygments_lexer": "ipython3",
   "version": "3.9.5"
  },
  "orig_nbformat": 4
 },
 "nbformat": 4,
 "nbformat_minor": 2
}
